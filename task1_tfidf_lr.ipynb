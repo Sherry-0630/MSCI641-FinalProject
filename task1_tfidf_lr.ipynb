{
 "cells": [
  {
   "cell_type": "code",
   "execution_count": 1,
   "id": "54293073",
   "metadata": {
    "_cell_guid": "b1076dfc-b9ad-4769-8c92-a6c4dae69d19",
    "_uuid": "8f2839f25d086af736a60e9eeb907d3b93b6e0e5",
    "execution": {
     "iopub.execute_input": "2025-06-19T06:08:31.557837Z",
     "iopub.status.busy": "2025-06-19T06:08:31.557497Z",
     "iopub.status.idle": "2025-06-19T06:08:33.726263Z",
     "shell.execute_reply": "2025-06-19T06:08:33.725236Z"
    },
    "papermill": {
     "duration": 2.174349,
     "end_time": "2025-06-19T06:08:33.727797",
     "exception": false,
     "start_time": "2025-06-19T06:08:31.553448",
     "status": "completed"
    },
    "tags": []
   },
   "outputs": [
    {
     "name": "stdout",
     "output_type": "stream",
     "text": [
      "/kaggle/input/task-1-clickbait-detection-msci-641-s-25/val.jsonl\n",
      "/kaggle/input/task-1-clickbait-detection-msci-641-s-25/test.jsonl\n",
      "/kaggle/input/task-1-clickbait-detection-msci-641-s-25/train.jsonl\n",
      "/kaggle/input/task-1-clickbait-detection-msci-641-s-25/sample_solution.csv\n"
     ]
    }
   ],
   "source": [
    "# This Python 3 environment comes with many helpful analytics libraries installed\n",
    "# It is defined by the kaggle/python Docker image: https://github.com/kaggle/docker-python\n",
    "# For example, here's several helpful packages to load\n",
    "\n",
    "import numpy as np # linear algebra\n",
    "import pandas as pd # data processing, CSV file I/O (e.g. pd.read_csv)\n",
    "\n",
    "# Input data files are available in the read-only \"../input/\" directory\n",
    "# For example, running this (by clicking run or pressing Shift+Enter) will list all files under the input directory\n",
    "\n",
    "import os\n",
    "for dirname, _, filenames in os.walk('/kaggle/input'):\n",
    "    for filename in filenames:\n",
    "        print(os.path.join(dirname, filename))\n",
    "\n",
    "# You can write up to 20GB to the current directory (/kaggle/working/) that gets preserved as output when you create a version using \"Save & Run All\" \n",
    "# You can also write temporary files to /kaggle/temp/, but they won't be saved outside of the current session"
   ]
  },
  {
   "cell_type": "code",
   "execution_count": 2,
   "id": "f8903006",
   "metadata": {
    "execution": {
     "iopub.execute_input": "2025-06-19T06:08:33.734552Z",
     "iopub.status.busy": "2025-06-19T06:08:33.734144Z",
     "iopub.status.idle": "2025-06-19T06:08:35.686339Z",
     "shell.execute_reply": "2025-06-19T06:08:35.685313Z"
    },
    "papermill": {
     "duration": 1.957388,
     "end_time": "2025-06-19T06:08:35.688168",
     "exception": false,
     "start_time": "2025-06-19T06:08:33.730780",
     "status": "completed"
    },
    "tags": []
   },
   "outputs": [],
   "source": [
    "import pandas as pd\n",
    "import re\n",
    "import string\n",
    "from sklearn.feature_extraction.text import TfidfVectorizer\n",
    "from sklearn.linear_model import LogisticRegression\n",
    "from sklearn.pipeline import Pipeline\n",
    "from sklearn.preprocessing import LabelEncoder\n",
    "from sklearn.metrics import classification_report"
   ]
  },
  {
   "cell_type": "code",
   "execution_count": 3,
   "id": "77501d92",
   "metadata": {
    "execution": {
     "iopub.execute_input": "2025-06-19T06:08:35.694823Z",
     "iopub.status.busy": "2025-06-19T06:08:35.693839Z",
     "iopub.status.idle": "2025-06-19T06:08:35.699609Z",
     "shell.execute_reply": "2025-06-19T06:08:35.698732Z"
    },
    "papermill": {
     "duration": 0.010384,
     "end_time": "2025-06-19T06:08:35.701057",
     "exception": false,
     "start_time": "2025-06-19T06:08:35.690673",
     "status": "completed"
    },
    "tags": []
   },
   "outputs": [],
   "source": [
    "def clean_text(text):\n",
    "    text = text.lower()\n",
    "    text = re.sub(r'https?://\\S+', '', text)\n",
    "    text = text.translate(str.maketrans('', '', string.punctuation))\n",
    "    words = text.split()\n",
    "    return \" \".join(words)"
   ]
  },
  {
   "cell_type": "code",
   "execution_count": 4,
   "id": "b0da7d6c",
   "metadata": {
    "execution": {
     "iopub.execute_input": "2025-06-19T06:08:35.706817Z",
     "iopub.status.busy": "2025-06-19T06:08:35.706548Z",
     "iopub.status.idle": "2025-06-19T06:08:36.793531Z",
     "shell.execute_reply": "2025-06-19T06:08:36.792644Z"
    },
    "papermill": {
     "duration": 1.091881,
     "end_time": "2025-06-19T06:08:36.795373",
     "exception": false,
     "start_time": "2025-06-19T06:08:35.703492",
     "status": "completed"
    },
    "tags": []
   },
   "outputs": [],
   "source": [
    "train_path = '/kaggle/input/task-1-clickbait-detection-msci-641-s-25/train.jsonl'\n",
    "val_path = '/kaggle/input/task-1-clickbait-detection-msci-641-s-25/val.jsonl'\n",
    "test_path = '/kaggle/input/task-1-clickbait-detection-msci-641-s-25/test.jsonl'\n",
    "\n",
    "df_train = pd.read_json(train_path, lines=True)\n",
    "df_val = pd.read_json(val_path, lines=True)\n",
    "df_test = pd.read_json(test_path, lines=True)"
   ]
  },
  {
   "cell_type": "code",
   "execution_count": 5,
   "id": "063e9a78",
   "metadata": {
    "execution": {
     "iopub.execute_input": "2025-06-19T06:08:36.802527Z",
     "iopub.status.busy": "2025-06-19T06:08:36.802151Z",
     "iopub.status.idle": "2025-06-19T06:08:36.839323Z",
     "shell.execute_reply": "2025-06-19T06:08:36.838419Z"
    },
    "papermill": {
     "duration": 0.043034,
     "end_time": "2025-06-19T06:08:36.841192",
     "exception": false,
     "start_time": "2025-06-19T06:08:36.798158",
     "status": "completed"
    },
    "tags": []
   },
   "outputs": [],
   "source": [
    "X_train = df_train['postText'].apply(lambda x: clean_text(x[0]))\n",
    "y_train = df_train['tags'].apply(lambda x: x[0])\n",
    "\n",
    "le = LabelEncoder()\n",
    "y_train_enc = le.fit_transform(y_train)"
   ]
  },
  {
   "cell_type": "code",
   "execution_count": 6,
   "id": "635de846",
   "metadata": {
    "execution": {
     "iopub.execute_input": "2025-06-19T06:08:36.847432Z",
     "iopub.status.busy": "2025-06-19T06:08:36.847079Z",
     "iopub.status.idle": "2025-06-19T06:08:37.994287Z",
     "shell.execute_reply": "2025-06-19T06:08:37.993438Z"
    },
    "papermill": {
     "duration": 1.152634,
     "end_time": "2025-06-19T06:08:37.996334",
     "exception": false,
     "start_time": "2025-06-19T06:08:36.843700",
     "status": "completed"
    },
    "tags": []
   },
   "outputs": [
    {
     "data": {
      "text/html": [
       "<style>#sk-container-id-1 {color: black;background-color: white;}#sk-container-id-1 pre{padding: 0;}#sk-container-id-1 div.sk-toggleable {background-color: white;}#sk-container-id-1 label.sk-toggleable__label {cursor: pointer;display: block;width: 100%;margin-bottom: 0;padding: 0.3em;box-sizing: border-box;text-align: center;}#sk-container-id-1 label.sk-toggleable__label-arrow:before {content: \"▸\";float: left;margin-right: 0.25em;color: #696969;}#sk-container-id-1 label.sk-toggleable__label-arrow:hover:before {color: black;}#sk-container-id-1 div.sk-estimator:hover label.sk-toggleable__label-arrow:before {color: black;}#sk-container-id-1 div.sk-toggleable__content {max-height: 0;max-width: 0;overflow: hidden;text-align: left;background-color: #f0f8ff;}#sk-container-id-1 div.sk-toggleable__content pre {margin: 0.2em;color: black;border-radius: 0.25em;background-color: #f0f8ff;}#sk-container-id-1 input.sk-toggleable__control:checked~div.sk-toggleable__content {max-height: 200px;max-width: 100%;overflow: auto;}#sk-container-id-1 input.sk-toggleable__control:checked~label.sk-toggleable__label-arrow:before {content: \"▾\";}#sk-container-id-1 div.sk-estimator input.sk-toggleable__control:checked~label.sk-toggleable__label {background-color: #d4ebff;}#sk-container-id-1 div.sk-label input.sk-toggleable__control:checked~label.sk-toggleable__label {background-color: #d4ebff;}#sk-container-id-1 input.sk-hidden--visually {border: 0;clip: rect(1px 1px 1px 1px);clip: rect(1px, 1px, 1px, 1px);height: 1px;margin: -1px;overflow: hidden;padding: 0;position: absolute;width: 1px;}#sk-container-id-1 div.sk-estimator {font-family: monospace;background-color: #f0f8ff;border: 1px dotted black;border-radius: 0.25em;box-sizing: border-box;margin-bottom: 0.5em;}#sk-container-id-1 div.sk-estimator:hover {background-color: #d4ebff;}#sk-container-id-1 div.sk-parallel-item::after {content: \"\";width: 100%;border-bottom: 1px solid gray;flex-grow: 1;}#sk-container-id-1 div.sk-label:hover label.sk-toggleable__label {background-color: #d4ebff;}#sk-container-id-1 div.sk-serial::before {content: \"\";position: absolute;border-left: 1px solid gray;box-sizing: border-box;top: 0;bottom: 0;left: 50%;z-index: 0;}#sk-container-id-1 div.sk-serial {display: flex;flex-direction: column;align-items: center;background-color: white;padding-right: 0.2em;padding-left: 0.2em;position: relative;}#sk-container-id-1 div.sk-item {position: relative;z-index: 1;}#sk-container-id-1 div.sk-parallel {display: flex;align-items: stretch;justify-content: center;background-color: white;position: relative;}#sk-container-id-1 div.sk-item::before, #sk-container-id-1 div.sk-parallel-item::before {content: \"\";position: absolute;border-left: 1px solid gray;box-sizing: border-box;top: 0;bottom: 0;left: 50%;z-index: -1;}#sk-container-id-1 div.sk-parallel-item {display: flex;flex-direction: column;z-index: 1;position: relative;background-color: white;}#sk-container-id-1 div.sk-parallel-item:first-child::after {align-self: flex-end;width: 50%;}#sk-container-id-1 div.sk-parallel-item:last-child::after {align-self: flex-start;width: 50%;}#sk-container-id-1 div.sk-parallel-item:only-child::after {width: 0;}#sk-container-id-1 div.sk-dashed-wrapped {border: 1px dashed gray;margin: 0 0.4em 0.5em 0.4em;box-sizing: border-box;padding-bottom: 0.4em;background-color: white;}#sk-container-id-1 div.sk-label label {font-family: monospace;font-weight: bold;display: inline-block;line-height: 1.2em;}#sk-container-id-1 div.sk-label-container {text-align: center;}#sk-container-id-1 div.sk-container {/* jupyter's `normalize.less` sets `[hidden] { display: none; }` but bootstrap.min.css set `[hidden] { display: none !important; }` so we also need the `!important` here to be able to override the default hidden behavior on the sphinx rendered scikit-learn.org. See: https://github.com/scikit-learn/scikit-learn/issues/21755 */display: inline-block !important;position: relative;}#sk-container-id-1 div.sk-text-repr-fallback {display: none;}</style><div id=\"sk-container-id-1\" class=\"sk-top-container\"><div class=\"sk-text-repr-fallback\"><pre>Pipeline(steps=[(&#x27;tfidf&#x27;, TfidfVectorizer()),\n",
       "                (&#x27;clf&#x27;, LogisticRegression(max_iter=1000))])</pre><b>In a Jupyter environment, please rerun this cell to show the HTML representation or trust the notebook. <br />On GitHub, the HTML representation is unable to render, please try loading this page with nbviewer.org.</b></div><div class=\"sk-container\" hidden><div class=\"sk-item sk-dashed-wrapped\"><div class=\"sk-label-container\"><div class=\"sk-label sk-toggleable\"><input class=\"sk-toggleable__control sk-hidden--visually\" id=\"sk-estimator-id-1\" type=\"checkbox\" ><label for=\"sk-estimator-id-1\" class=\"sk-toggleable__label sk-toggleable__label-arrow\">Pipeline</label><div class=\"sk-toggleable__content\"><pre>Pipeline(steps=[(&#x27;tfidf&#x27;, TfidfVectorizer()),\n",
       "                (&#x27;clf&#x27;, LogisticRegression(max_iter=1000))])</pre></div></div></div><div class=\"sk-serial\"><div class=\"sk-item\"><div class=\"sk-estimator sk-toggleable\"><input class=\"sk-toggleable__control sk-hidden--visually\" id=\"sk-estimator-id-2\" type=\"checkbox\" ><label for=\"sk-estimator-id-2\" class=\"sk-toggleable__label sk-toggleable__label-arrow\">TfidfVectorizer</label><div class=\"sk-toggleable__content\"><pre>TfidfVectorizer()</pre></div></div></div><div class=\"sk-item\"><div class=\"sk-estimator sk-toggleable\"><input class=\"sk-toggleable__control sk-hidden--visually\" id=\"sk-estimator-id-3\" type=\"checkbox\" ><label for=\"sk-estimator-id-3\" class=\"sk-toggleable__label sk-toggleable__label-arrow\">LogisticRegression</label><div class=\"sk-toggleable__content\"><pre>LogisticRegression(max_iter=1000)</pre></div></div></div></div></div></div></div>"
      ],
      "text/plain": [
       "Pipeline(steps=[('tfidf', TfidfVectorizer()),\n",
       "                ('clf', LogisticRegression(max_iter=1000))])"
      ]
     },
     "execution_count": 6,
     "metadata": {},
     "output_type": "execute_result"
    }
   ],
   "source": [
    "model = Pipeline([\n",
    "    ('tfidf', TfidfVectorizer()),\n",
    "    ('clf', LogisticRegression(max_iter=1000))\n",
    "])\n",
    "model.fit(X_train, y_train_enc)"
   ]
  },
  {
   "cell_type": "code",
   "execution_count": 7,
   "id": "32f0a345",
   "metadata": {
    "execution": {
     "iopub.execute_input": "2025-06-19T06:08:38.005503Z",
     "iopub.status.busy": "2025-06-19T06:08:38.005152Z",
     "iopub.status.idle": "2025-06-19T06:08:38.039955Z",
     "shell.execute_reply": "2025-06-19T06:08:38.039155Z"
    },
    "papermill": {
     "duration": 0.041451,
     "end_time": "2025-06-19T06:08:38.041834",
     "exception": false,
     "start_time": "2025-06-19T06:08:38.000383",
     "status": "completed"
    },
    "tags": []
   },
   "outputs": [
    {
     "name": "stdout",
     "output_type": "stream",
     "text": [
      "Validation Result：\n",
      "              precision    recall  f1-score   support\n",
      "\n",
      "       multi       0.83      0.23      0.36        84\n",
      "     passage       0.57      0.61      0.59       154\n",
      "      phrase       0.56      0.73      0.63       162\n",
      "\n",
      "    accuracy                           0.58       400\n",
      "   macro avg       0.65      0.52      0.53       400\n",
      "weighted avg       0.62      0.58      0.56       400\n",
      "\n"
     ]
    }
   ],
   "source": [
    "X_val = df_val['postText'].apply(lambda x: clean_text(x[0]))\n",
    "y_val = df_val['tags'].apply(lambda x: x[0])\n",
    "y_val_enc = le.transform(y_val)\n",
    "\n",
    "y_val_pred_enc = model.predict(X_val)\n",
    "print(\"Validation Result：\")\n",
    "print(classification_report(y_val_enc, y_val_pred_enc, target_names=le.classes_))"
   ]
  },
  {
   "cell_type": "code",
   "execution_count": 8,
   "id": "2805808e",
   "metadata": {
    "execution": {
     "iopub.execute_input": "2025-06-19T06:08:38.051605Z",
     "iopub.status.busy": "2025-06-19T06:08:38.051190Z",
     "iopub.status.idle": "2025-06-19T06:08:38.082012Z",
     "shell.execute_reply": "2025-06-19T06:08:38.081219Z"
    },
    "papermill": {
     "duration": 0.03737,
     "end_time": "2025-06-19T06:08:38.083672",
     "exception": false,
     "start_time": "2025-06-19T06:08:38.046302",
     "status": "completed"
    },
    "tags": []
   },
   "outputs": [],
   "source": [
    "X_test = df_test['postText'].apply(lambda x: clean_text(x[0]))\n",
    "y_test_pred_enc = model.predict(X_test)\n",
    "y_test_pred = le.inverse_transform(y_test_pred_enc)\n",
    "\n",
    "df_submission = pd.DataFrame({\n",
    "    'id': df_test['id'],\n",
    "    'spoilerType': y_test_pred\n",
    "})\n",
    "\n",
    "df_submission.to_csv('/kaggle/working/prediction_task1.csv', index=False)"
   ]
  }
 ],
 "metadata": {
  "kaggle": {
   "accelerator": "none",
   "dataSources": [
    {
     "databundleVersionId": 12235822,
     "sourceId": 101633,
     "sourceType": "competition"
    }
   ],
   "dockerImageVersionId": 31040,
   "isGpuEnabled": false,
   "isInternetEnabled": false,
   "language": "python",
   "sourceType": "notebook"
  },
  "kernelspec": {
   "display_name": "Python 3",
   "language": "python",
   "name": "python3"
  },
  "language_info": {
   "codemirror_mode": {
    "name": "ipython",
    "version": 3
   },
   "file_extension": ".py",
   "mimetype": "text/x-python",
   "name": "python",
   "nbconvert_exporter": "python",
   "pygments_lexer": "ipython3",
   "version": "3.11.11"
  },
  "papermill": {
   "default_parameters": {},
   "duration": 12.419135,
   "end_time": "2025-06-19T06:08:38.807258",
   "environment_variables": {},
   "exception": null,
   "input_path": "__notebook__.ipynb",
   "output_path": "__notebook__.ipynb",
   "parameters": {},
   "start_time": "2025-06-19T06:08:26.388123",
   "version": "2.6.0"
  }
 },
 "nbformat": 4,
 "nbformat_minor": 5
}
